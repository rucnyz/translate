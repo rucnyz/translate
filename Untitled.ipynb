{
 "cells": [
  {
   "cell_type": "code",
   "execution_count": 2,
   "id": "afdc9e3a-2411-468d-9f2e-30523befc9ea",
   "metadata": {},
   "outputs": [],
   "source": [
    "import numpy as np\n",
    "import jieba\n",
    "from collections import Counter#计数器\n",
    "import torch\n",
    "import torch.nn as nn\n",
    "import torch.nn.functional as F\n",
    "from torch.nn.utils.rnn import pad_sequence ,pack_padded_sequence,pad_packed_sequence\n",
    "from torchtext.data.utils import get_tokenizer#分词器\n",
    "#from autonotebook import tqdm as notebook_tqdm\n",
    "import gc\n",
    "from transformers import AutoTokenizer"
   ]
  },
  {
   "cell_type": "code",
   "execution_count": 3,
   "id": "7ed61391-a3d8-47e4-a6aa-0d29c2eda703",
   "metadata": {},
   "outputs": [],
   "source": [
    "UNK_IDX = 0 #未知\n",
    "PAD_IDX = 1  #\n",
    "BATCH_SIZE = 64   \n",
    "EPOCHS  = 30\n",
    "DROPOUT = 0.2\n",
    "ENC_HIDDEN_SIZE = DEC_HIDDEN_SIZE = 100\n",
    "EMBED_SIZE = 100\n",
    "## 数据集文件\n",
    "train_en_file = 'en-zh/train.en'\n",
    "train_zh_file = 'en-zh/train.zh'\n",
    "test_en_file = 'en-zh/test.en'\n",
    "test_zh_file = 'en-zh/test.zh'\n",
    "save_file = 'model.pt'\n",
    "DEVICE = torch.device(\"cuda\" if torch.cuda.is_available() else \"cpu\")"
   ]
  },
  {
   "cell_type": "code",
   "execution_count": null,
   "id": "67f81e4d-ec56-41a6-a232-1a9ca70f5cb8",
   "metadata": {},
   "outputs": [
    {
     "name": "stderr",
     "output_type": "stream",
     "text": [
      "Truncation was not explicitly activated but `max_length` is provided a specific value, please use `truncation=True` to explicitly truncate examples to max length. Defaulting to 'longest_first' truncation strategy. If you encode pairs of sequences (GLUE-style) with the tokenizer you can select this strategy more precisely by providing a specific strategy to `truncation`.\n",
      "Token indices sequence length is longer than the specified maximum sequence length for this model (587 > 512). Running this sequence through the model will result in indexing errors\n"
     ]
    },
    {
     "name": "stdout",
     "output_type": "stream",
     "text": [
      "1000000\n",
      "2000000\n",
      "3000000\n",
      "4000000\n",
      "5000000\n",
      "6000000\n",
      "7000000\n",
      "8000000\n",
      "9000000\n",
      "10000000\n",
      "11000000\n",
      "12000000\n"
     ]
    }
   ],
   "source": [
    "%%time\n",
    "tokenizer_zh = AutoTokenizer.from_pretrained(\"bert-base-chinese\")\n",
    "i = 0\n",
    "train_text_zh = []\n",
    "train_zh_encode = []\n",
    "with open(train_zh_file, 'r', encoding='utf-8') as f:\n",
    "     while True:\n",
    "        line = f.readline()\n",
    "        if line == '':\n",
    "            break\n",
    "        i = i+1\n",
    "\n",
    "        if i%1000000 == 0:\n",
    "            print(str(i))\n",
    "\n",
    "        try:\n",
    "            line = line.strip().split('\\t')\n",
    "            train_text_zh.append(tokenizer_zh.tokenize(line[0]))\n",
    "            train_zh_encode.append(tokenizer_zh.encode(line[0], max_length=1000))\n",
    "\n",
    "\n",
    "        except Exception as e:\n",
    "            print(\"error raise!\")"
   ]
  },
  {
   "cell_type": "code",
   "execution_count": 14,
   "id": "c22daca6-a837-48ab-a32e-dc5dd7b6a909",
   "metadata": {},
   "outputs": [
    {
     "data": {
      "text/plain": [
       "(['第',\n",
       "  '74',\n",
       "  '##39',\n",
       "  '次',\n",
       "  '会',\n",
       "  '议',\n",
       "  '，',\n",
       "  '2015',\n",
       "  '年',\n",
       "  '5',\n",
       "  '月',\n",
       "  '11',\n",
       "  '日',\n",
       "  '举',\n",
       "  '行',\n",
       "  '。'],\n",
       " 4000)"
      ]
     },
     "execution_count": 14,
     "metadata": {},
     "output_type": "execute_result"
    }
   ],
   "source": [
    "train_text_zh[0], len(train_text_zh)"
   ]
  },
  {
   "cell_type": "code",
   "execution_count": 16,
   "id": "d70d3ca3-e277-4f48-bb3f-6e6de9a55f0f",
   "metadata": {},
   "outputs": [
    {
     "data": {
      "text/plain": [
       "([101,\n",
       "  5018,\n",
       "  8473,\n",
       "  9355,\n",
       "  3613,\n",
       "  833,\n",
       "  6379,\n",
       "  8024,\n",
       "  8119,\n",
       "  2399,\n",
       "  126,\n",
       "  3299,\n",
       "  8111,\n",
       "  3189,\n",
       "  715,\n",
       "  6121,\n",
       "  511,\n",
       "  102],\n",
       " 4000)"
      ]
     },
     "execution_count": 16,
     "metadata": {},
     "output_type": "execute_result"
    }
   ],
   "source": [
    "train_zh_encode[0], len(train_zh_encode)"
   ]
  },
  {
   "cell_type": "code",
   "execution_count": 18,
   "id": "3d897849-6f69-4cbc-a802-0a49c0e3af01",
   "metadata": {},
   "outputs": [
    {
     "data": {
      "text/plain": [
       "'[CLS] 第 7439 次 会 议 ， 2015 年 5 月 11 日 举 行 。 [SEP]'"
      ]
     },
     "execution_count": 18,
     "metadata": {},
     "output_type": "execute_result"
    }
   ],
   "source": [
    "decode = tokenizer_zh.decode(train_zh_encode[0])\n",
    "decode"
   ]
  },
  {
   "cell_type": "code",
   "execution_count": null,
   "id": "d5cd71fb-05ba-4094-93b3-efc8142c9d1f",
   "metadata": {},
   "outputs": [],
   "source": [
    "import pickle\n",
    "with open('train_zh_encode.pickle', 'wb') as file:\n",
    "    pickle.dump(train_zh_encode, file)"
   ]
  },
  {
   "cell_type": "code",
   "execution_count": null,
   "id": "b56f0e0e-02bb-4bca-9c52-8531651087f4",
   "metadata": {},
   "outputs": [
    {
     "name": "stderr",
     "output_type": "stream",
     "text": [
      "/root/miniconda3/lib/python3.8/site-packages/torch/utils/data/datapipes/utils/common.py:24: UserWarning: Lambda function is not supported for pickle, please use regular python function or functools.partial instead.\n",
      "  warnings.warn(\n",
      "Building prefix dict from the default dictionary ...\n",
      "Loading model from cache /tmp/jieba.cache\n",
      "Loading model cost 0.651 seconds.\n",
      "Prefix dict has been built successfully.\n"
     ]
    }
   ],
   "source": [
    "import time\n",
    "\n",
    "import jieba\n",
    "import torch\n",
    "from torch import Tensor\n",
    "from torch.utils.data import dataset\n",
    "from torchdata.datapipes.iter import FileOpener, FileLister\n",
    "from torchtext.data.utils import get_tokenizer\n",
    "from torchtext.vocab import build_vocab_from_iterator\n",
    "\n",
    "train_en_file = 'en-zh/train.en'\n",
    "train_cn_file = 'en-zh/train.zh'\n",
    "test_en_file = 'en-zh/test.en'\n",
    "test_cn_file = 'en-zh/test.zh'\n",
    "\n",
    "# 用训练集构建字典\n",
    "# en_iter = FileLister([train_en_file])\n",
    "# en_iter = FileOpener(en_iter).readlines().map(lambda x: x[1])\n",
    "\n",
    "cn_iter = FileLister([train_cn_file])\n",
    "cn_iter = FileOpener(cn_iter).readlines().map(lambda x: x[1])\n",
    "\n",
    "start_time = time.time()\n",
    "# tokenizer_en = get_tokenizer('basic_english')\n",
    "# vocab_en = build_vocab_from_iterator(map(tokenizer_en, en_iter), min_freq = 2, specials = ['<unk>'])\n",
    "# vocab_en.set_default_index(vocab_en['<unk>'])\n",
    "\n",
    "tokenizer_cn = get_tokenizer(jieba.lcut)  # 进行结巴分词\n",
    "vocab_cn = build_vocab_from_iterator(map(tokenizer_cn, cn_iter), min_freq = 2, specials = ['<unk>'])\n",
    "vocab_cn.set_default_index(vocab_cn['<unk>'])\n",
    "print(\"所用时间: {:.4f}\".format(time.time() - start_time))\n",
    "# 开始训练重新读数据"
   ]
  },
  {
   "cell_type": "code",
   "execution_count": 6,
   "id": "688476b3-b682-439b-b5ca-46cfc165fd90",
   "metadata": {},
   "outputs": [],
   "source": [
    "import torch\n",
    "vocab_en = torch.load(\"vocab_en.pt\")"
   ]
  },
  {
   "cell_type": "code",
   "execution_count": 4,
   "id": "4a3bd918-8853-4ee8-9e2a-a0c7895f5d1e",
   "metadata": {},
   "outputs": [
    {
     "data": {
      "text/plain": [
       "Vocab()"
      ]
     },
     "execution_count": 4,
     "metadata": {},
     "output_type": "execute_result"
    }
   ],
   "source": [
    "vocab_en"
   ]
  },
  {
   "cell_type": "code",
   "execution_count": 7,
   "id": "690df74b-66a4-45d2-8b2d-193779ab3b37",
   "metadata": {},
   "outputs": [
    {
     "data": {
      "text/plain": [
       "Vocab()"
      ]
     },
     "execution_count": 7,
     "metadata": {},
     "output_type": "execute_result"
    }
   ],
   "source": [
    "vocab_cn = torch.load(\"vocab_cn.pt\")\n",
    "vocab_cn"
   ]
  },
  {
   "cell_type": "code",
   "execution_count": 5,
   "id": "bd0c448a-0f47-4204-8cc9-f8b5c38f509e",
   "metadata": {},
   "outputs": [],
   "source": [
    "tokenizer_en = torch.load(\"tokenizer_en.pt\")"
   ]
  },
  {
   "cell_type": "code",
   "execution_count": 6,
   "id": "cfdeef71-8e2c-4262-a168-6069307c8f6c",
   "metadata": {},
   "outputs": [
    {
     "data": {
      "text/plain": [
       "<function torchtext.data.utils._basic_english_normalize(line)>"
      ]
     },
     "execution_count": 6,
     "metadata": {},
     "output_type": "execute_result"
    }
   ],
   "source": [
    "tokenizer_en"
   ]
  },
  {
   "cell_type": "code",
   "execution_count": 1,
   "id": "03f9fd3a-1628-46d5-b74e-6ae8126e356b",
   "metadata": {},
   "outputs": [],
   "source": [
    "import os.path\n",
    "import time\n",
    "\n",
    "import jieba\n",
    "import torch\n",
    "from torch import Tensor\n",
    "from torch.utils.data import dataset\n",
    "from torchdata.datapipes.iter import FileOpener, FileLister\n",
    "from torchtext.data.utils import get_tokenizer\n",
    "from torchtext.vocab import build_vocab_from_iterator\n",
    "\n",
    "train_en_file = 'en-zh/train.en'\n",
    "train_cn_file = 'en-zh/train.zh'\n",
    "test_en_file = 'en-zh/test.en'\n",
    "test_cn_file = 'en-zh/test.zh'\n"
   ]
  },
  {
   "cell_type": "code",
   "execution_count": 2,
   "id": "df5ab365-97c7-40b6-9623-4fa091aa1b80",
   "metadata": {},
   "outputs": [],
   "source": [
    "tokenizer_en = get_tokenizer('basic_english')\n",
    "tokenizer_cn = get_tokenizer(jieba.lcut)  # 进行结巴分词"
   ]
  },
  {
   "cell_type": "code",
   "execution_count": 3,
   "id": "65643efa-3a99-47ca-af0f-6f13ac51b35d",
   "metadata": {},
   "outputs": [
    {
     "data": {
      "text/plain": [
       "<function torchtext.data.utils._basic_english_normalize(line)>"
      ]
     },
     "execution_count": 3,
     "metadata": {},
     "output_type": "execute_result"
    }
   ],
   "source": [
    "tokenizer_en"
   ]
  },
  {
   "cell_type": "code",
   "execution_count": 4,
   "id": "054c1410-e2b9-41b1-81b2-ddb53d2c97b1",
   "metadata": {},
   "outputs": [
    {
     "name": "stderr",
     "output_type": "stream",
     "text": [
      "/root/miniconda3/lib/python3.8/site-packages/torch/utils/data/datapipes/utils/common.py:24: UserWarning: Lambda function is not supported for pickle, please use regular python function or functools.partial instead.\n",
      "  warnings.warn(\n"
     ]
    }
   ],
   "source": [
    "# 开始训练重新读数据\n",
    "train_en_iter = FileLister([train_en_file])\n",
    "train_en_iter = FileOpener(train_en_iter).readlines().map(lambda x: x[1])\n",
    "# train_en_iter = train_en_iter.map(tokenizer_en).map(vocab_en)\n",
    "\n",
    "train_cn_iter = FileLister([train_cn_file])\n",
    "train_cn_iter = FileOpener(train_cn_iter).readlines().map(lambda x: x[1])\n",
    "# train_cn_iter = train_cn_iter.map(tokenizer_cn).map(vocab_cn)\n",
    "\n",
    "test_en_iter = FileLister([test_en_file])\n",
    "test_en_iter = FileOpener(test_en_iter).readlines().map(lambda x: x[1])\n",
    "# test_en_iter = test_en_iter.map(tokenizer_en).map(vocab_en)\n",
    "\n",
    "test_cn_iter = FileLister([test_cn_file])\n",
    "test_cn_iter = FileOpener(test_cn_iter).readlines().map(lambda x: x[1])\n",
    "# test_cn_iter = test_cn_iter.map(tokenizer_cn).map(vocab_cn)"
   ]
  },
  {
   "cell_type": "code",
   "execution_count": 13,
   "id": "c71d0d58-1514-435f-b8e8-1cda866496fa",
   "metadata": {},
   "outputs": [
    {
     "name": "stderr",
     "output_type": "stream",
     "text": [
      "Building prefix dict from the default dictionary ...\n",
      "Loading model from cache /tmp/jieba.cache\n",
      "Loading model cost 0.653 seconds.\n",
      "Prefix dict has been built successfully.\n"
     ]
    },
    {
     "name": "stdout",
     "output_type": "stream",
     "text": [
      "CPU times: user 1h 18min 25s, sys: 1min 34s, total: 1h 20min\n",
      "Wall time: 1h 19min 59s\n"
     ]
    }
   ],
   "source": [
    "%%time\n",
    "def data_process(raw_text_iter: dataset.IterableDataset, vocab, tokenizer) -> Tensor:\n",
    "    \"\"\"Converts raw text into a flat Tensor.\"\"\"\n",
    "    data = [torch.tensor(vocab(tokenizer(item)), dtype = torch.long) for item in raw_text_iter]\n",
    "    return torch.cat(tuple(filter(lambda t: t.numel() > 0, data)))\n",
    "\n",
    "device = torch.device('cuda' if torch.cuda.is_available() else 'cpu')\n",
    "train_en_data = data_process(train_en_iter, vocab_en, tokenizer_en)\n",
    "train_cn_data = data_process(train_cn_iter, vocab_cn, tokenizer_cn)\n",
    "test_en_data = data_process(test_en_iter, vocab_en, tokenizer_en)\n",
    "test_cn_data = data_process(test_cn_iter, vocab_cn, tokenizer_cn)"
   ]
  },
  {
   "cell_type": "code",
   "execution_count": 16,
   "id": "0f0b3564-bf35-47f5-8e1b-91554ad31edb",
   "metadata": {},
   "outputs": [
    {
     "data": {
      "text/plain": [
       "420789446"
      ]
     },
     "execution_count": 16,
     "metadata": {},
     "output_type": "execute_result"
    }
   ],
   "source": [
    "len(train_en_data)"
   ]
  },
  {
   "cell_type": "code",
   "execution_count": 13,
   "id": "864b089a-ec81-481c-9bde-02fbf0c9963c",
   "metadata": {},
   "outputs": [
    {
     "ename": "AttributeError",
     "evalue": "'list' object has no attribute 'lower'",
     "output_type": "error",
     "traceback": [
      "\u001b[0;31m---------------------------------------------------------------------------\u001b[0m",
      "\u001b[0;31mAttributeError\u001b[0m                            Traceback (most recent call last)",
      "\u001b[0;32m/tmp/ipykernel_216137/3873974940.py\u001b[0m in \u001b[0;36m<module>\u001b[0;34m\u001b[0m\n\u001b[0;32m----> 1\u001b[0;31m \u001b[0;34m[\u001b[0m\u001b[0mtorch\u001b[0m\u001b[0;34m.\u001b[0m\u001b[0mtensor\u001b[0m\u001b[0;34m(\u001b[0m\u001b[0mvocab_en\u001b[0m\u001b[0;34m(\u001b[0m\u001b[0mtokenizer_en\u001b[0m\u001b[0;34m(\u001b[0m\u001b[0mitem\u001b[0m\u001b[0;34m)\u001b[0m\u001b[0;34m)\u001b[0m\u001b[0;34m,\u001b[0m \u001b[0mdtype\u001b[0m \u001b[0;34m=\u001b[0m \u001b[0mtorch\u001b[0m\u001b[0;34m.\u001b[0m\u001b[0mlong\u001b[0m\u001b[0;34m)\u001b[0m \u001b[0;32mfor\u001b[0m \u001b[0mitem\u001b[0m \u001b[0;32min\u001b[0m \u001b[0mtrain_en_iter\u001b[0m\u001b[0;34m]\u001b[0m\u001b[0;34m\u001b[0m\u001b[0;34m\u001b[0m\u001b[0m\n\u001b[0m",
      "\u001b[0;32m/tmp/ipykernel_216137/3873974940.py\u001b[0m in \u001b[0;36m<listcomp>\u001b[0;34m(.0)\u001b[0m\n\u001b[0;32m----> 1\u001b[0;31m \u001b[0;34m[\u001b[0m\u001b[0mtorch\u001b[0m\u001b[0;34m.\u001b[0m\u001b[0mtensor\u001b[0m\u001b[0;34m(\u001b[0m\u001b[0mvocab_en\u001b[0m\u001b[0;34m(\u001b[0m\u001b[0mtokenizer_en\u001b[0m\u001b[0;34m(\u001b[0m\u001b[0mitem\u001b[0m\u001b[0;34m)\u001b[0m\u001b[0;34m)\u001b[0m\u001b[0;34m,\u001b[0m \u001b[0mdtype\u001b[0m \u001b[0;34m=\u001b[0m \u001b[0mtorch\u001b[0m\u001b[0;34m.\u001b[0m\u001b[0mlong\u001b[0m\u001b[0;34m)\u001b[0m \u001b[0;32mfor\u001b[0m \u001b[0mitem\u001b[0m \u001b[0;32min\u001b[0m \u001b[0mtrain_en_iter\u001b[0m\u001b[0;34m]\u001b[0m\u001b[0;34m\u001b[0m\u001b[0;34m\u001b[0m\u001b[0m\n\u001b[0m",
      "\u001b[0;32m~/miniconda3/lib/python3.8/site-packages/torchtext/data/utils.py\u001b[0m in \u001b[0;36m_basic_english_normalize\u001b[0;34m(line)\u001b[0m\n\u001b[1;32m     66\u001b[0m     \"\"\"\n\u001b[1;32m     67\u001b[0m \u001b[0;34m\u001b[0m\u001b[0m\n\u001b[0;32m---> 68\u001b[0;31m     \u001b[0mline\u001b[0m \u001b[0;34m=\u001b[0m \u001b[0mline\u001b[0m\u001b[0;34m.\u001b[0m\u001b[0mlower\u001b[0m\u001b[0;34m(\u001b[0m\u001b[0;34m)\u001b[0m\u001b[0;34m\u001b[0m\u001b[0;34m\u001b[0m\u001b[0m\n\u001b[0m\u001b[1;32m     69\u001b[0m     \u001b[0;32mfor\u001b[0m \u001b[0mpattern_re\u001b[0m\u001b[0;34m,\u001b[0m \u001b[0mreplaced_str\u001b[0m \u001b[0;32min\u001b[0m \u001b[0m_patterns_dict\u001b[0m\u001b[0;34m:\u001b[0m\u001b[0;34m\u001b[0m\u001b[0;34m\u001b[0m\u001b[0m\n\u001b[1;32m     70\u001b[0m         \u001b[0mline\u001b[0m \u001b[0;34m=\u001b[0m \u001b[0mpattern_re\u001b[0m\u001b[0;34m.\u001b[0m\u001b[0msub\u001b[0m\u001b[0;34m(\u001b[0m\u001b[0mreplaced_str\u001b[0m\u001b[0;34m,\u001b[0m \u001b[0mline\u001b[0m\u001b[0;34m)\u001b[0m\u001b[0;34m\u001b[0m\u001b[0;34m\u001b[0m\u001b[0m\n",
      "\u001b[0;31mAttributeError\u001b[0m: 'list' object has no attribute 'lower'"
     ]
    }
   ],
   "source": [
    "[torch.tensor(vocab_en(tokenizer_en(item)), dtype = torch.long) for item in train_en_iter]"
   ]
  },
  {
   "cell_type": "code",
   "execution_count": 14,
   "id": "6cc0b6a7-3a20-420d-97d6-3fa9ecffb631",
   "metadata": {},
   "outputs": [
    {
     "data": {
      "text/plain": [
       "<function torchtext.data.utils._basic_english_normalize(line)>"
      ]
     },
     "execution_count": 14,
     "metadata": {},
     "output_type": "execute_result"
    }
   ],
   "source": [
    "tokenizer_en"
   ]
  },
  {
   "cell_type": "code",
   "execution_count": 10,
   "id": "8576902b-1d78-4ced-aab2-a74f5cceaf59",
   "metadata": {},
   "outputs": [
    {
     "name": "stdout",
     "output_type": "stream",
     "text": [
      "RESOLUTION 918 (1994)\n",
      "Adopted by the Security Council at its 3377th meeting, on 17 May 1994\n",
      "The Security Council,\n",
      "Reaffirming all its previous resolutions on the situation in Rwanda, in particular its resolution 872 (1993) of 5 October 1993 by which it established the United Nations Assistance Mission for Rwanda (UNAMIR), its resolution 909 (1994) of 5 April 1994 which extended the mandate of UNAMIR until 29 July 1994, and its resolution 912 (1994) of 21 April 1994 by which it adjusted the mandate of UNAMIR,\n",
      "Recalling the statements made by the President of the Council on 7 April 1994 (S/PRST/1994/16) and 30 April 1994 (S/PRST/1994/21),\n",
      "Having considered the report of the Secretary-General dated 13 May 1994 (S/1994/565),\n",
      "Reaffirming its resolution 868 (1993) of 29 September 1993 on the security of United Nations operations,\n",
      "Strongly condemning the ongoing violence in Rwanda and particularly condemning the very numerous killings of civilians which have taken place in Rwanda and the impunity with which armed individuals have been able to operate and continue operating therein,\n",
      "Stressing the importance of the Arusha Peace Agreement to the peaceful resolution of the conflict in Rwanda and the necessity for all parties to recommit themselves to its full implementation,\n",
      "Commending the efforts of the Organization of African Unity (OAU) and its organs, as well as the efforts of the Tanzanian Facilitator, in providing diplomatic, political, and humanitarian support for the implementation of the relevant resolutions of the Council,\n",
      "Deeply concerned that the situation in Rwanda, which has resulted in the death of many thousands of innocent civilians, including women and children, the 94-21836 (E) /... Page\n",
      "Expressing once again its alarm at continuing reports of systematic, widespread and flagrant violations of international humanitarian law in Rwanda, as well as other violations of the rights to life and property,\n",
      "Recalling in this context that the killing of members of an ethnic group with the intention of destroying such a group, in whole or in part, constitutes a crime punishable under international law,\n",
      "Strongly urging all parties to cease forthwith any incitement, especially through the mass media, to violence or ethnic hatred,\n",
      "Recalling also its request to the Secretary-General to collect information on the responsibility for the tragic incident that resulted in the death of the Presidents of Rwanda and Burundi,\n",
      "Recalling further that it had requested the Secretary-General to make proposals for the investigation of reports of serious violations of international humanitarian law during the conflict,\n",
      "Underlining the urgent need for coordinated international action to alleviate the suffering of the Rwandan people and to help restore peace in Rwanda, and in this connection welcoming cooperation between the United Nations and the OAU as well as with countries of the region, especially the facilitator of the Arusha peace process,\n",
      "Desiring in this context to expand the mandate of UNAMIR for humanitarian purposes, and stressing the importance it attaches to the support and cooperation of the parties for the successful implementation of all aspects of that mandate,\n",
      "Reaffirming its commitment to the unity and territorial integrity of Rwanda,\n",
      "Recognizing that the people of Rwanda bear ultimate responsibility for national reconciliation and reconstruction of their country,\n",
      "Deeply disturbed by the magnitude of the human suffering caused by the conflict and concerned that the continuation of the situation in Rwanda constitutes a threat to peace and security in the region,\n",
      "A\n",
      "1. Demands that all parties to the conflict immediately cease hostilities, agree to a cease-fire, and bring an end to the mindless violence and carnage engulfing Rwanda;\n",
      "2. Welcomes the report of the Secretary-General dated 13 May 1994 (S/1994/565);\n",
      "3. Decides to expand UNAMIR's mandate under resolution 912 (1994) to include the following additional responsibilities within the limits of the resources available to it:\n",
      "(a) To contribute to the security and protection of displaced persons, refugees and civilians at risk in Rwanda, including through the establishment and maintenance, where feasible, of secure humanitarian areas;\n",
      "(b) To provide security and support for the distribution of relief supplies and humanitarian relief operations;\n",
      "4. Recognizes that UNAMIR may be required to take action in self-defence against persons or groups who threaten protected sites and populations, United Nations and other humanitarian personnel or the means of delivery and distribution of humanitarian relief;\n",
      "5. Authorizes in this context an expansion of the UNAMIR force level up to 5,500 troops;\n",
      "6. Requests the Secretary-General, as recommended in his report, and as a first phase, immediately to redeploy to Rwanda the UNAMIR military observers currently in Nairobi and to bring up to full strength the elements of the mechanized infantry battalion currently in Rwanda;\n",
      "7. Further requests the Secretary-General to report as soon as possible on the next phase of UNAMIR's deployment including, inter alia, on the cooperation of the parties, progress towards a cease-fire, availability of resources and the proposed duration of the mandate for further review and action, as required, by the Council;\n",
      "8. Encourages the Secretary-General to accelerate his efforts, in conjunction with the Secretary-General of the OAU, to obtain from Member States the necessary personnel to enable deployment of the expanded UNAMIR to proceed urgently;\n",
      "9. Invites Member States to respond promptly to the Secretary-General's request for the resources required, including logistical support capability for rapid deployment of the UNAMIR expanded force level and its support in the field;\n",
      "10. Strongly urges all parties in Rwanda to cooperate fully with UNAMIR in the implementation of its mandate and in particular in ensuring its freedom of movement and the unimpeded delivery of humanitarian assistance, and further calls upon them to treat Kigali airport as a neutral zone under the control of UNAMIR;\n",
      "11. Demands that all parties in Rwanda strictly respect the persons and premises of the United Nations and other organizations serving in Rwanda, and refrain from any acts of intimidation or violence against personnel engaged in humanitarian and peace-keeping work;\n",
      "12. Commends the efforts of States, United Nations agencies and non-governmental organizations which have provided humanitarian and other assistance, encourages them to continue and increase such assistance, and urges others to provide such assistance;\n",
      "B\n",
      "Determining that the situation in Rwanda constitutes a threat to peace and security in the region,\n",
      "Acting under Chapter VII of the Charter of the United Nations,\n",
      "13. Decides that all States shall prevent the sale or supply to Rwanda by their nationals or from their territories or using their flag vessels or aircraft of arms and related matériel of all types, including weapons and ammunition, military vehicles and equipment, paramilitary police equipment and spare parts;\n",
      "14. Decides also to establish, in accordance with rule 28 of the provisional rules of procedure of the Security Council, a Committee of the Security Council consisting of all the members of the Council, to undertake the following tasks and to report on its work to the Council with its observations and recommendations:\n",
      "(a) To seek from all States information regarding the action taken by them concerning the effective implementation of the embargo imposed by paragraph 13 above;\n",
      "(b) To consider any information brought to its attention by States concerning violations of the embargo, and in that context to make recommendations to the Council on ways of increasing the effectiveness of the embargo;\n",
      "(c) To recommend appropriate measures in response to violations of the embargo imposed by paragraph 13 above and provide information on a regular basis to the Secretary-General for general distribution to Member States;\n",
      "15. Calls upon all States, including States not Members of the United Nations, and international organizations to act strictly in accordance with the provisions of the present resolution, notwithstanding the existence of any rights or obligations conferred or imposed by any international agreement or any contract entered into or any licence or permit granted prior to the date of the adoption of this resolution;\n",
      "16. Decides that the provisions set forth in paragraphs 13 and 15 above do not apply to activities related to UNAMIR and UNOMUR;\n",
      "17. Requests the Secretary-General to provide all necessary assistance to the Committee and to make the necessary arrangements in the Secretariat for this purpose;\n",
      "C\n",
      "18. Requests the Secretary-General to present a report as soon as possible on the investigation of serious violations of international humanitarian law committed in Rwanda during the conflict;\n",
      "19. Invites the Secretary-General and his Special Representative, in coordination with the OAU and countries in the region, to continue their efforts to achieve a political settlement in Rwanda within the framework of the Arusha Peace Agreement;\n",
      "20. Decides to keep the situation in Rwanda under constant review and requests the Secretary-General to report further, including on the humanitarian situation, within five weeks of the adoption of this resolution and again in good time before the expiration of the current mandate of UNAMIR;\n",
      "21. Decides to remain actively seized of the matter.\n",
      "REPORT OF THE UNITED NATIONS/EUROPEAN SPACE AGENCY WORKSHOP ON\n",
      "APPLICATIONS OF SPACE TECHNIQUES TO PREVENT AND COMBAT NATURAL DISASTERS, ORGANIZED IN COOPERATION\n",
      "(Harare, 22-26 May 1995)\n",
      "CONTENTS\n",
      "Paragraphs Page\n",
      "INTRODUCTION 1-10 2\n",
      "A. Background and objectives 1-5 2\n",
      "B. Organization and programme of the Workshop 6-10 2\n",
      "I. OBSERVATIONS AND RECOMMENDATIONS OF THE WORKSHOP 11-14 3\n",
      "A. Observations of the Workshop 11-13 3\n",
      "B. Recommendations of the Workshop 14 3\n",
      "II. SUMMARY OF PRESENTATIONS 15-78 4\n",
      "A. The role of the International Decade for Natural Disaster Reduction and\n",
      "the contribution of space technology 21-24 4\n",
      "B. Regional disaster-related problems and projects 25-33 5\n",
      "C. Current and future possibilities for satellite communications 34-58 6\n",
      "D. Use of data from remote sensing satellites 59-74 10\n",
      "E. A global monitoring and warning satellite system 75-78 13\n",
      "II. Working paper on data supply (Group A) 17\n",
      "III. Working paper on information generation (Group B) 20\n",
      "IV. Working paper on decision process (Group C) 22\n",
      "V. Working paper on implementation/execution (Group D) 24\n",
      "On 10 December 1982, the General Assembly adopted resolution 37/90 in which it endorsed the recommendations of the Second United Nations Conference on the Exploration and Peaceful Uses of Outer Space.\n",
      "In that resolution, the Assembly decided, inter alia, that the United Nations Programme on Space Applications should disseminate, through panel meetings and seminars, information on new and advanced technology and applications, with emphasis on their relevance and implications for developing countries.\n",
      "The United Nations/European Space Agency Workshop on Applications of Space Techniques to Prevent and Combat Natural Disasters was one of the activities of the Programme for 1995 that were endorsed by the General Assembly in its resolution 49/34 of 9 December 1994.\n",
      "The Workshop was organized in cooperation with the Government of Zimbabwe.\n",
      "It was hosted by the Environment and Remote Sensing Institute (ERSI) and held at Harare, from 22 to 26 May 1995, for participants from developing countries of the region covered by the Economic Commission for Africa (ECA).\n",
      "The objectives of the Workshop were (a) to expose the participants, particularly managers of emergency response agencies, to ways and means of utilizing space technology (remote sensing, satellite meteorology, satellite communications, positioning by satellites) to prevent or mitigate the effects of natural disasters; and (b) to address the development of databases and their use with Geographic Information Systems (GIS) to prevent disasters or to monitor, mitigate and redress the effects of disasters when they occur.\n",
      "The presentations to the Workshop covered the use of remote sensing, satellite meteorology, satellite positioning systems and satellite communications and how they could be used, separately or collectively, to prevent disasters or to forecast, monitor and mitigate the effects of severe weather phenomena, such as flooding, desertification and drought.\n",
      "The presentations also addressed the extent to which the same technologies could mitigate the effects of earthquakes and volcanic eruptions.\n",
      "The Workshop concluded with discussions on the needs of the emergency response services, the capabilities of space technology to satisfy those needs and the actions that would be necessary in the short- and medium-term to take advantage of those capabilities.\n",
      "The participants will report to the appropriate authorities in their own countries.\n",
      "B. Organization and programme of the Workshop The participants were professionals with several years experience in managerial positions with national and regional emergency response agencies and services.\n",
      "Other participants had several years experience in remote sensing, satellite meteorology and the use of databases such as GIS.\n",
      "Sixty-nine experts from 18 States Members of the United Nations and eight international and regional organizations participated in the Workshop; 44 participants represented 14 developing countries from the ECA region.\n",
      "The Workshop was attended by participants from the following countries and international organizations: Benin, Botswana, Egypt, Ethiopia, Ghana, Kenya, Malawi, Nigeria, South Africa, Sudan, United Republic of Tanzania, Zambia and Zimbabwe.\n",
      "Presentations were made by experts from Ghana, France, Japan, Norway, South Africa, United Republic of Tanzania, United States of America and Zimbabwe; from European Space Agency (ESA), International Federation of Red Cross and Red Crescent Societies (regional delegation for Southern Africa), International Mobile Satellite Organization (Inmarsat), International Telecommunications Satellite Organization (INTELSAT), Food and Agriculture Organization of the United Nations (FAO), Department of Humanitarian Affairs of the United Nations/International Decade for Natural Disaster Reduction (UNDHA/IDNDR), United Nations Environment Programme (UNEP), United Nations Educational, Scientific and Cultural Organization (UNESCO) and the United Nations Office for Outer Space Affairs, as well as by a representative of the Globalstar satellite communications company.\n",
      "Funds allocated by the United Nations and ESA were used to defray the air travel and per diem expenses of 14 participants from 11 developing countries of the ECA region.\n",
      "The Government of Zimbabwe, through ERSI, provided the conference facilities and the Government also provided local transportation for all participants in the Workshop.\n",
      "The programme of the Workshop (annex I), was developed jointly by the United Nations and ESA.\n",
      "The Workshop held plenary and working group meetings.\n",
      "At the latter, the participants discussed the issues related to the use of space technologies to prevent and combat the effects of natural disasters.\n",
      "The working papers of these groups are given in annexes II-V.\n",
      "A. Observations of the Workshop The critical factors that distinguish natural phenomena from natural disasters are loss of life and property.\n",
      "Certainly, humans cannot prevent the occurrence of natural phenomena such as typhoons, hurricanes, earthquakes and volcanic eruptions.\n",
      "Their disastrous effects, however, can be lessened significantly if well-conceived disaster-response plans and mitigation strategies are in place prior to their occurrence.\n",
      "The Workshop noted that developing countries were particularly subject to natural disasters on a scale that overwhelmed the capacity of the societies concerned to cope with their aftermath.\n",
      "In many cases, just one such destructive episode was sufficient to destroy the social and economic infrastructure, including the communications network.\n",
      "A single major disaster could disrupt the distribution of food and water supplies, medical services, and both the local and international communication links of the stricken communities.\n"
     ]
    }
   ],
   "source": [
    "i=0\n",
    "for item in train_en_iter:\n",
    "    i += 1\n",
    "    print(item)\n",
    "    if i>100:\n",
    "        break"
   ]
  },
  {
   "cell_type": "code",
   "execution_count": 11,
   "id": "f12b913d-230e-453c-8b2b-ffcb97a0b267",
   "metadata": {},
   "outputs": [
    {
     "ename": "TypeError",
     "evalue": "__getitem__(): incompatible function arguments. The following argument types are supported:\n    1. (self: torchtext._torchtext.Vocab, arg0: str) -> int\n\nInvoked with: <torchtext._torchtext.Vocab object at 0x7f3e5bb8edb0>, 0",
     "output_type": "error",
     "traceback": [
      "\u001b[0;31m---------------------------------------------------------------------------\u001b[0m",
      "\u001b[0;31mTypeError\u001b[0m                                 Traceback (most recent call last)",
      "\u001b[0;32m/tmp/ipykernel_442430/1729472609.py\u001b[0m in \u001b[0;36m<module>\u001b[0;34m\u001b[0m\n\u001b[1;32m      1\u001b[0m \u001b[0mi\u001b[0m\u001b[0;34m=\u001b[0m\u001b[0;36m0\u001b[0m\u001b[0;34m\u001b[0m\u001b[0;34m\u001b[0m\u001b[0m\n\u001b[0;32m----> 2\u001b[0;31m \u001b[0;32mfor\u001b[0m \u001b[0mitem\u001b[0m \u001b[0;32min\u001b[0m \u001b[0mvocab_en\u001b[0m\u001b[0;34m:\u001b[0m\u001b[0;34m\u001b[0m\u001b[0;34m\u001b[0m\u001b[0m\n\u001b[0m\u001b[1;32m      3\u001b[0m     \u001b[0mi\u001b[0m \u001b[0;34m+=\u001b[0m \u001b[0;36m1\u001b[0m\u001b[0;34m\u001b[0m\u001b[0;34m\u001b[0m\u001b[0m\n\u001b[1;32m      4\u001b[0m     \u001b[0mprint\u001b[0m\u001b[0;34m(\u001b[0m\u001b[0mitem\u001b[0m\u001b[0;34m)\u001b[0m\u001b[0;34m\u001b[0m\u001b[0;34m\u001b[0m\u001b[0m\n\u001b[1;32m      5\u001b[0m     \u001b[0;32mif\u001b[0m \u001b[0mi\u001b[0m\u001b[0;34m>\u001b[0m\u001b[0;36m100\u001b[0m\u001b[0;34m:\u001b[0m\u001b[0;34m\u001b[0m\u001b[0;34m\u001b[0m\u001b[0m\n",
      "\u001b[0;32m~/miniconda3/lib/python3.8/site-packages/torchtext/vocab/vocab.py\u001b[0m in \u001b[0;36m__getitem__\u001b[0;34m(self, token)\u001b[0m\n\u001b[1;32m     62\u001b[0m             \u001b[0mThe\u001b[0m \u001b[0mindex\u001b[0m \u001b[0mcorresponding\u001b[0m \u001b[0mto\u001b[0m \u001b[0mthe\u001b[0m \u001b[0massociated\u001b[0m \u001b[0mtoken\u001b[0m\u001b[0;34m.\u001b[0m\u001b[0;34m\u001b[0m\u001b[0;34m\u001b[0m\u001b[0m\n\u001b[1;32m     63\u001b[0m         \"\"\"\n\u001b[0;32m---> 64\u001b[0;31m         \u001b[0;32mreturn\u001b[0m \u001b[0mself\u001b[0m\u001b[0;34m.\u001b[0m\u001b[0mvocab\u001b[0m\u001b[0;34m[\u001b[0m\u001b[0mtoken\u001b[0m\u001b[0;34m]\u001b[0m\u001b[0;34m\u001b[0m\u001b[0;34m\u001b[0m\u001b[0m\n\u001b[0m\u001b[1;32m     65\u001b[0m \u001b[0;34m\u001b[0m\u001b[0m\n\u001b[1;32m     66\u001b[0m     \u001b[0;34m@\u001b[0m\u001b[0mtorch\u001b[0m\u001b[0;34m.\u001b[0m\u001b[0mjit\u001b[0m\u001b[0;34m.\u001b[0m\u001b[0mexport\u001b[0m\u001b[0;34m\u001b[0m\u001b[0;34m\u001b[0m\u001b[0m\n",
      "\u001b[0;31mTypeError\u001b[0m: __getitem__(): incompatible function arguments. The following argument types are supported:\n    1. (self: torchtext._torchtext.Vocab, arg0: str) -> int\n\nInvoked with: <torchtext._torchtext.Vocab object at 0x7f3e5bb8edb0>, 0"
     ]
    }
   ],
   "source": [
    "i=0\n",
    "for item in vocab_en:\n",
    "    i += 1\n",
    "    print(item)\n",
    "    if i>100:\n",
    "        break"
   ]
  },
  {
   "cell_type": "code",
   "execution_count": null,
   "id": "d33b9f2c-13c5-4470-8fe0-ab95aa576b21",
   "metadata": {},
   "outputs": [],
   "source": []
  }
 ],
 "metadata": {
  "kernelspec": {
   "display_name": "Python 3 (ipykernel)",
   "language": "python",
   "name": "python3"
  },
  "language_info": {
   "codemirror_mode": {
    "name": "ipython",
    "version": 3
   },
   "file_extension": ".py",
   "mimetype": "text/x-python",
   "name": "python",
   "nbconvert_exporter": "python",
   "pygments_lexer": "ipython3",
   "version": "3.8.13"
  }
 },
 "nbformat": 4,
 "nbformat_minor": 5
}
